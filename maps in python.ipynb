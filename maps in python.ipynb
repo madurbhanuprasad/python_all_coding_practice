{
 "cells": [
  {
   "cell_type": "code",
   "execution_count": null,
   "id": "d32b7544",
   "metadata": {},
   "outputs": [],
   "source": [
    "Maps in Python are used to apply a \n",
    "function to each item in an iterable \n",
    "(such as a list, tuple, or set) and collect \n",
    "the results into a new iterable. The map()\n",
    "function takes two arguments: the function\n",
    "    to be applied and the iterable to be processed. \n",
    "    Here are some examples of using the map() \n",
    "    function in Python:"
   ]
  },
  {
   "cell_type": "code",
   "execution_count": 1,
   "id": "92bfb5ab",
   "metadata": {},
   "outputs": [
    {
     "name": "stdout",
     "output_type": "stream",
     "text": [
      "[1, 4, 9, 16, 25]\n"
     ]
    }
   ],
   "source": [
    "numbers = [1, 2, 3, 4, 5]\n",
    "\n",
    "squared_numbers = list(map(lambda x: x**2, numbers))\n",
    "print(squared_numbers)\n",
    "# Output: [1, 4, 9, 16, 25]\n"
   ]
  },
  {
   "cell_type": "code",
   "execution_count": null,
   "id": "1fde6d48",
   "metadata": {},
   "outputs": [],
   "source": [
    "#Converting temperatures from Celsius to Fahrenheit:\n",
    "celsius_temperatures = [25, 30, 15, 20]\n",
    "\n",
    "fahrenheit_temperatures = list(map(lambda x: (9/5) * x + 32, celsius_temperatures))\n",
    "print(fahrenheit_temperatures)\n",
    "# Output: [77.0, 86.0, 59.0, 68.0]\n"
   ]
  },
  {
   "cell_type": "code",
   "execution_count": 2,
   "id": "4ae1fc29",
   "metadata": {},
   "outputs": [
    {
     "name": "stdout",
     "output_type": "stream",
     "text": [
      "['a', 'b', 'c']\n"
     ]
    }
   ],
   "source": [
    "#Extracting the first letter of each word in a list of strings:\n",
    "\n",
    "words = ['apple', 'banana', 'cherry', 'date']\n",
    "\n",
    "first_letters = list(map(lambda x: x[0], words))\n",
    "print(first_letters)\n",
    "# Output: ['a', 'b', 'c', 'd']\n"
   ]
  },
  {
   "cell_type": "code",
   "execution_count": 3,
   "id": "2f41ab89",
   "metadata": {},
   "outputs": [
    {
     "name": "stdout",
     "output_type": "stream",
     "text": [
      "['1', '2', '3', '4', '5']\n"
     ]
    }
   ],
   "source": [
    "#Converting a list of integers to strings\n",
    "numbers = [1, 2, 3, 4, 5]\n",
    "\n",
    "number_strings = list(map(str, numbers))\n",
    "print(number_strings)\n",
    "# Output: ['1', '2', '3', '4', '5']\n"
   ]
  },
  {
   "cell_type": "code",
   "execution_count": 4,
   "id": "51143ba2",
   "metadata": {},
   "outputs": [
    {
     "name": "stdout",
     "output_type": "stream",
     "text": [
      "['APPLE', 'BANANA', 'CHERRY']\n"
     ]
    }
   ],
   "source": [
    "#Converting a list of strings to uppercase:\n",
    "\n",
    "fruits = ['apple', 'banana', 'cherry']\n",
    "\n",
    "# Convert each fruit name to uppercase using map() and str.upper()\n",
    "uppercase_fruits = map(str.upper, fruits)\n",
    "print(list(uppercase_fruits))  # Output: ['APPLE', 'BANANA', 'CHERRY']\n"
   ]
  },
  {
   "cell_type": "code",
   "execution_count": 5,
   "id": "6f588e39",
   "metadata": {},
   "outputs": [
    {
     "name": "stdout",
     "output_type": "stream",
     "text": [
      "[('apple', 6), ('banana', 4), ('cherry', 10)]\n"
     ]
    }
   ],
   "source": [
    "items = [('apple', 3), ('banana', 2), ('cherry', 5)]\n",
    "\n",
    "# Multiply the quantity by 2 for each item using map() and a custom function\n",
    "updated_items = map(lambda x: (x[0], x[1] * 2), items)\n",
    "print(list(updated_items))  # Output: [('apple', 6), ('banana', 4), ('cherry', 10)]\n"
   ]
  },
  {
   "cell_type": "code",
   "execution_count": 7,
   "id": "eb751d81",
   "metadata": {},
   "outputs": [
    {
     "name": "stdout",
     "output_type": "stream",
     "text": [
      "[5, 7, 9]\n"
     ]
    }
   ],
   "source": [
    "numbers1 = [1, 2, 3]\n",
    "numbers2 = [4, 5, 6]\n",
    "\n",
    "# Add corresponding elements from both lists using map() and the built-in sum() function\n",
    "sums = map(sum, zip(numbers1, numbers2))\n",
    "print(list(sums))  # Output: [5, 7, 9]\n"
   ]
  },
  {
   "cell_type": "code",
   "execution_count": null,
   "id": "9307e113",
   "metadata": {},
   "outputs": [],
   "source": []
  }
 ],
 "metadata": {
  "kernelspec": {
   "display_name": "Python 3 (ipykernel)",
   "language": "python",
   "name": "python3"
  },
  "language_info": {
   "codemirror_mode": {
    "name": "ipython",
    "version": 3
   },
   "file_extension": ".py",
   "mimetype": "text/x-python",
   "name": "python",
   "nbconvert_exporter": "python",
   "pygments_lexer": "ipython3",
   "version": "3.10.9"
  }
 },
 "nbformat": 4,
 "nbformat_minor": 5
}
