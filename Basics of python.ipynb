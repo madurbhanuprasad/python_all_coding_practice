{
 "cells": [
  {
   "cell_type": "code",
   "execution_count": 2,
   "id": "f4eee15e",
   "metadata": {},
   "outputs": [
    {
     "name": "stdout",
     "output_type": "stream",
     "text": [
      "BHANU\n"
     ]
    }
   ],
   "source": [
    "print(\"BHANU\")"
   ]
  },
  {
   "cell_type": "markdown",
   "id": "61cbef4d",
   "metadata": {},
   "source": [
    "name=input(\"whats your name\")"
   ]
  },
  {
   "cell_type": "code",
   "execution_count": 3,
   "id": "1a8a7a34",
   "metadata": {},
   "outputs": [
    {
     "name": "stdout",
     "output_type": "stream",
     "text": [
      "whats your namebhanu\n"
     ]
    }
   ],
   "source": [
    "name=input(\"whats your name\")"
   ]
  },
  {
   "cell_type": "code",
   "execution_count": 4,
   "id": "af315182",
   "metadata": {},
   "outputs": [
    {
     "name": "stdout",
     "output_type": "stream",
     "text": [
      "bhanu\n"
     ]
    }
   ],
   "source": [
    "var1=\"bhanu\"\n",
    "print(var1)"
   ]
  },
  {
   "cell_type": "code",
   "execution_count": 6,
   "id": "1d65bbd0",
   "metadata": {},
   "outputs": [
    {
     "name": "stdout",
     "output_type": "stream",
     "text": [
      "what is your favourite number6\n",
      "6\n"
     ]
    }
   ],
   "source": [
    "number=input(\"what is your favourite number\")\n",
    "print(number)"
   ]
  },
  {
   "cell_type": "code",
   "execution_count": 7,
   "id": "730a558f",
   "metadata": {},
   "outputs": [
    {
     "name": "stdout",
     "output_type": "stream",
     "text": [
      "enter your age65\n",
      "your are 780 years old\n"
     ]
    }
   ],
   "source": [
    "age=int(input(\"enter your age\"))\n",
    "print(\"your are\",age*12,\"years old\")"
   ]
  },
  {
   "cell_type": "code",
   "execution_count": 8,
   "id": "e448f1e0",
   "metadata": {},
   "outputs": [],
   "source": [
    "integer_num=2\n",
    "floating_num=1.0\n",
    "string='mike'\n",
    "boolen= True"
   ]
  },
  {
   "cell_type": "code",
   "execution_count": 9,
   "id": "6b92bbb8",
   "metadata": {},
   "outputs": [
    {
     "data": {
      "text/plain": [
       "int"
      ]
     },
     "execution_count": 9,
     "metadata": {},
     "output_type": "execute_result"
    }
   ],
   "source": [
    "type(integer_num)"
   ]
  },
  {
   "cell_type": "code",
   "execution_count": 10,
   "id": "2d43c02a",
   "metadata": {},
   "outputs": [
    {
     "data": {
      "text/plain": [
       "float"
      ]
     },
     "execution_count": 10,
     "metadata": {},
     "output_type": "execute_result"
    }
   ],
   "source": [
    "type(floating_num)"
   ]
  },
  {
   "cell_type": "code",
   "execution_count": 11,
   "id": "95465292",
   "metadata": {},
   "outputs": [
    {
     "data": {
      "text/plain": [
       "str"
      ]
     },
     "execution_count": 11,
     "metadata": {},
     "output_type": "execute_result"
    }
   ],
   "source": [
    "type(string)"
   ]
  },
  {
   "cell_type": "code",
   "execution_count": 12,
   "id": "1408555b",
   "metadata": {},
   "outputs": [
    {
     "data": {
      "text/plain": [
       "bool"
      ]
     },
     "execution_count": 12,
     "metadata": {},
     "output_type": "execute_result"
    }
   ],
   "source": [
    "type(boolen)"
   ]
  },
  {
   "cell_type": "code",
   "execution_count": 14,
   "id": "bd830fa0",
   "metadata": {},
   "outputs": [
    {
     "name": "stdout",
     "output_type": "stream",
     "text": [
      "True\n"
     ]
    }
   ],
   "source": [
    "a=1\n",
    "print(bool(a))"
   ]
  },
  {
   "cell_type": "code",
   "execution_count": 15,
   "id": "210f282d",
   "metadata": {},
   "outputs": [
    {
     "name": "stdout",
     "output_type": "stream",
     "text": [
      "1\n"
     ]
    }
   ],
   "source": [
    "print(int(1))"
   ]
  },
  {
   "cell_type": "code",
   "execution_count": 16,
   "id": "606050e8",
   "metadata": {},
   "outputs": [
    {
     "name": "stdout",
     "output_type": "stream",
     "text": [
      "1.0\n"
     ]
    }
   ],
   "source": [
    "print(float(1))"
   ]
  },
  {
   "cell_type": "code",
   "execution_count": 18,
   "id": "cd484e12",
   "metadata": {},
   "outputs": [
    {
     "name": "stdout",
     "output_type": "stream",
     "text": [
      "1\n"
     ]
    }
   ],
   "source": [
    "print(str(1))"
   ]
  },
  {
   "cell_type": "code",
   "execution_count": 19,
   "id": "f7f091dc",
   "metadata": {},
   "outputs": [
    {
     "name": "stdout",
     "output_type": "stream",
     "text": [
      "3.0\n"
     ]
    }
   ],
   "source": [
    "x = 3.5\n",
    "print(float(int(x)))"
   ]
  },
  {
   "cell_type": "code",
   "execution_count": 22,
   "id": "2599683e",
   "metadata": {},
   "outputs": [
    {
     "ename": "NameError",
     "evalue": "name 'Varma' is not defined",
     "output_type": "error",
     "traceback": [
      "\u001b[1;31m---------------------------------------------------------------------------\u001b[0m",
      "\u001b[1;31mNameError\u001b[0m                                 Traceback (most recent call last)",
      "Cell \u001b[1;32mIn[22], line 1\u001b[0m\n\u001b[1;32m----> 1\u001b[0m name \u001b[38;5;241m=\u001b[39m \u001b[43mVarma\u001b[49m\n\u001b[0;32m      3\u001b[0m \u001b[38;5;28mprint\u001b[39m(\u001b[38;5;28mtype\u001b[39m(name))\n",
      "\u001b[1;31mNameError\u001b[0m: name 'Varma' is not defined"
     ]
    }
   ],
   "source": [
    "name = Varma\n",
    "\n",
    "print(type(name))"
   ]
  },
  {
   "cell_type": "code",
   "execution_count": 30,
   "id": "7cdb8cce",
   "metadata": {},
   "outputs": [
    {
     "name": "stdout",
     "output_type": "stream",
     "text": [
      "13\n"
     ]
    }
   ],
   "source": [
    "a=6\n",
    "b=7\n",
    "print(a+b)"
   ]
  },
  {
   "cell_type": "code",
   "execution_count": 31,
   "id": "a8b1a3d8",
   "metadata": {},
   "outputs": [
    {
     "name": "stdout",
     "output_type": "stream",
     "text": [
      "0\n"
     ]
    }
   ],
   "source": [
    "print(a//b)"
   ]
  },
  {
   "cell_type": "code",
   "execution_count": 32,
   "id": "61c34631",
   "metadata": {},
   "outputs": [
    {
     "name": "stdout",
     "output_type": "stream",
     "text": [
      "0.8571428571428571\n"
     ]
    }
   ],
   "source": [
    "print(a/b)"
   ]
  },
  {
   "cell_type": "code",
   "execution_count": 33,
   "id": "3d8b9059",
   "metadata": {},
   "outputs": [
    {
     "name": "stdout",
     "output_type": "stream",
     "text": [
      "6\n"
     ]
    }
   ],
   "source": [
    "print(a%b)"
   ]
  },
  {
   "cell_type": "code",
   "execution_count": 34,
   "id": "fb3a5946",
   "metadata": {},
   "outputs": [
    {
     "name": "stdout",
     "output_type": "stream",
     "text": [
      "279936\n"
     ]
    }
   ],
   "source": [
    "print(a**b)"
   ]
  },
  {
   "cell_type": "code",
   "execution_count": 36,
   "id": "4cecb5b4",
   "metadata": {},
   "outputs": [
    {
     "ename": "NameError",
     "evalue": "name 'pedmas' is not defined",
     "output_type": "error",
     "traceback": [
      "\u001b[1;31m---------------------------------------------------------------------------\u001b[0m",
      "\u001b[1;31mNameError\u001b[0m                                 Traceback (most recent call last)",
      "Cell \u001b[1;32mIn[36], line 1\u001b[0m\n\u001b[1;32m----> 1\u001b[0m \u001b[43mpedmas\u001b[49m\n",
      "\u001b[1;31mNameError\u001b[0m: name 'pedmas' is not defined"
     ]
    }
   ],
   "source": [
    "pedmas "
   ]
  },
  {
   "cell_type": "code",
   "execution_count": 38,
   "id": "ddf46fca",
   "metadata": {},
   "outputs": [
    {
     "name": "stdout",
     "output_type": "stream",
     "text": [
      "3.5\n"
     ]
    }
   ],
   "source": [
    "x = 3\n",
    "y = 2.5\n",
    "z = 5\n",
    "print(x + y / z)"
   ]
  },
  {
   "cell_type": "code",
   "execution_count": 39,
   "id": "dbf62a1f",
   "metadata": {},
   "outputs": [
    {
     "data": {
      "text/plain": [
       "-2"
      ]
     },
     "execution_count": 39,
     "metadata": {},
     "output_type": "execute_result"
    }
   ],
   "source": [
    "4 % (1 + 9)**2 - 60 // (7 + 2)\n"
   ]
  },
  {
   "cell_type": "code",
   "execution_count": 45,
   "id": "dc996290",
   "metadata": {},
   "outputs": [
    {
     "name": "stdout",
     "output_type": "stream",
     "text": [
      "bhanu bhanu\n",
      "i dont know\n",
      ":name\n"
     ]
    }
   ],
   "source": [
    "name='bhanu'\n",
    "name1=\"bhanu\"\n",
    "print(name,name1)\n",
    "print('i dont know\\n:name')"
   ]
  },
  {
   "cell_type": "code",
   "execution_count": 49,
   "id": "6a40de29",
   "metadata": {},
   "outputs": [
    {
     "name": "stdout",
     "output_type": "stream",
     "text": [
      "what type caryti\n",
      "are youhfgd\n"
     ]
    },
    {
     "ename": "TypeError",
     "evalue": "can only concatenate str (not \"int\") to str",
     "output_type": "error",
     "traceback": [
      "\u001b[1;31m---------------------------------------------------------------------------\u001b[0m",
      "\u001b[1;31mTypeError\u001b[0m                                 Traceback (most recent call last)",
      "Cell \u001b[1;32mIn[49], line 3\u001b[0m\n\u001b[0;32m      1\u001b[0m flavour\u001b[38;5;241m=\u001b[39m\u001b[38;5;28minput\u001b[39m(\u001b[38;5;124m\"\u001b[39m\u001b[38;5;124mwhat type car\u001b[39m\u001b[38;5;124m\"\u001b[39m)\n\u001b[0;32m      2\u001b[0m boat\u001b[38;5;241m=\u001b[39m\u001b[38;5;28minput\u001b[39m(\u001b[38;5;124m\"\u001b[39m\u001b[38;5;124mare you\u001b[39m\u001b[38;5;124m\"\u001b[39m)\n\u001b[1;32m----> 3\u001b[0m \u001b[38;5;28mprint\u001b[39m(\u001b[38;5;124;43m\"\u001b[39;49m\u001b[38;5;124;43myou like\u001b[39;49m\u001b[38;5;124;43m\"\u001b[39;49m\u001b[38;5;241;43m+\u001b[39;49m\u001b[43mflavour\u001b[49m\u001b[38;5;241;43m+\u001b[39;49m\u001b[43m_\u001b[49m\u001b[38;5;241m+\u001b[39mboat\u001b[38;5;241m+\u001b[39m\u001b[38;5;124m\"\u001b[39m\u001b[38;5;124myou like\u001b[39m\u001b[38;5;124m\"\u001b[39m)\n",
      "\u001b[1;31mTypeError\u001b[0m: can only concatenate str (not \"int\") to str"
     ]
    }
   ],
   "source": [
    "flavour=input(\"what type car\")\n",
    "boat=input(\"are you\")\n",
    "print(\"you like\"+flavour+_+boat+\"you like\")"
   ]
  },
  {
   "cell_type": "code",
   "execution_count": 50,
   "id": "999b297c",
   "metadata": {},
   "outputs": [
    {
     "name": "stdout",
     "output_type": "stream",
     "text": [
      "What flavour would you like ice\n",
      "What type of dessert would you like tea\n",
      "You have ordered ice-tea\n"
     ]
    }
   ],
   "source": [
    "flavour=input(\"What flavour would you like \")\n",
    "dessert_type=input(\"What type of dessert would you like \")\n",
    "print(\"You have ordered\", flavour+\"-\"+dessert_type)"
   ]
  },
  {
   "cell_type": "code",
   "execution_count": 51,
   "id": "cab816c4",
   "metadata": {},
   "outputs": [
    {
     "data": {
      "text/plain": [
       "14"
      ]
     },
     "execution_count": 51,
     "metadata": {},
     "output_type": "execute_result"
    }
   ],
   "source": [
    "string=\"i was so young\"\n",
    "len(string)"
   ]
  },
  {
   "cell_type": "code",
   "execution_count": 52,
   "id": "13001464",
   "metadata": {},
   "outputs": [
    {
     "data": {
      "text/plain": [
       "'w'"
      ]
     },
     "execution_count": 52,
     "metadata": {},
     "output_type": "execute_result"
    }
   ],
   "source": [
    "string[2]"
   ]
  },
  {
   "cell_type": "code",
   "execution_count": 53,
   "id": "c4b03c57",
   "metadata": {},
   "outputs": [
    {
     "data": {
      "text/plain": [
       "'n'"
      ]
     },
     "execution_count": 53,
     "metadata": {},
     "output_type": "execute_result"
    }
   ],
   "source": [
    "string[-2]"
   ]
  },
  {
   "cell_type": "code",
   "execution_count": 54,
   "id": "270098d5",
   "metadata": {},
   "outputs": [
    {
     "data": {
      "text/plain": [
       "'n'"
      ]
     },
     "execution_count": 54,
     "metadata": {},
     "output_type": "execute_result"
    }
   ],
   "source": [
    "string = 'mvqugvqhc2ndoi'\n",
    "string[-4]"
   ]
  },
  {
   "cell_type": "code",
   "execution_count": 55,
   "id": "506770cf",
   "metadata": {},
   "outputs": [
    {
     "data": {
      "text/plain": [
       "'n'"
      ]
     },
     "execution_count": 55,
     "metadata": {},
     "output_type": "execute_result"
    }
   ],
   "source": [
    "string[10]"
   ]
  },
  {
   "cell_type": "code",
   "execution_count": 56,
   "id": "843fddce",
   "metadata": {},
   "outputs": [
    {
     "name": "stdout",
     "output_type": "stream",
     "text": [
      " i wa\n"
     ]
    }
   ],
   "source": [
    "statment=\" i was so young that i can walk\"\n",
    "sliced=statment[0:5]\n",
    "print(sliced)"
   ]
  },
  {
   "cell_type": "code",
   "execution_count": 57,
   "id": "cdd6c4e9",
   "metadata": {},
   "outputs": [
    {
     "name": "stdout",
     "output_type": "stream",
     "text": [
      " i was so\n"
     ]
    }
   ],
   "source": [
    "statment=\" i was so young that i can walk\"\n",
    "sliced=statment[:9]\n",
    "print(sliced)"
   ]
  },
  {
   "cell_type": "code",
   "execution_count": 58,
   "id": "88dd7d3b",
   "metadata": {},
   "outputs": [
    {
     "name": "stdout",
     "output_type": "stream",
     "text": [
      "as so \n"
     ]
    }
   ],
   "source": [
    "statment=\" i was so young that i can walk\"\n",
    "sliced=statment[4:10]\n",
    "print(sliced)"
   ]
  },
  {
   "cell_type": "code",
   "execution_count": 59,
   "id": "eb5630c7",
   "metadata": {},
   "outputs": [
    {
     "name": "stdout",
     "output_type": "stream",
     "text": [
      "False\n"
     ]
    }
   ],
   "source": [
    "statment=\" i was so young that i can walk\"\n",
    "print('statment'in statment)"
   ]
  },
  {
   "cell_type": "code",
   "execution_count": 69,
   "id": "0f7c8772",
   "metadata": {},
   "outputs": [
    {
     "name": "stdout",
     "output_type": "stream",
     "text": [
      "Python\n"
     ]
    }
   ],
   "source": [
    "string= \"I love Python programming\"\n",
    "sliced=string[-18:-12]\n",
    "print(sliced)"
   ]
  },
  {
   "cell_type": "code",
   "execution_count": 70,
   "id": "2457634d",
   "metadata": {},
   "outputs": [
    {
     "data": {
      "text/plain": [
       "'e'"
      ]
     },
     "execution_count": 70,
     "metadata": {},
     "output_type": "execute_result"
    }
   ],
   "source": [
    "x = 'len'\n",
    "x[len(x * 2) - 5]"
   ]
  },
  {
   "cell_type": "code",
   "execution_count": 72,
   "id": "3dadd14d",
   "metadata": {},
   "outputs": [
    {
     "data": {
      "text/plain": [
       "'MAIL MEE '"
      ]
     },
     "execution_count": 72,
     "metadata": {},
     "output_type": "execute_result"
    }
   ],
   "source": [
    "mail=\"mail mee \"\n",
    "mail.upper()"
   ]
  },
  {
   "cell_type": "code",
   "execution_count": 73,
   "id": "945f8e0c",
   "metadata": {},
   "outputs": [
    {
     "data": {
      "text/plain": [
       "'mail mee '"
      ]
     },
     "execution_count": 73,
     "metadata": {},
     "output_type": "execute_result"
    }
   ],
   "source": [
    "mail=\"mail mee \"\n",
    "mail.lower()"
   ]
  },
  {
   "cell_type": "code",
   "execution_count": 77,
   "id": "2b0a141d",
   "metadata": {},
   "outputs": [
    {
     "data": {
      "text/plain": [
       "'mail mee            '"
      ]
     },
     "execution_count": 77,
     "metadata": {},
     "output_type": "execute_result"
    }
   ],
   "source": [
    "mail=\"mail mee            \"\n",
    "mail.rstrip('a')"
   ]
  },
  {
   "cell_type": "code",
   "execution_count": 79,
   "id": "ddd620c3",
   "metadata": {},
   "outputs": [
    {
     "data": {
      "text/plain": [
       "'******mumbai23'"
      ]
     },
     "execution_count": 79,
     "metadata": {},
     "output_type": "execute_result"
    }
   ],
   "source": [
    "string = '******mumbai23#####'\n",
    "string.rstrip('#')"
   ]
  },
  {
   "cell_type": "code",
   "execution_count": 80,
   "id": "5be936bb",
   "metadata": {},
   "outputs": [
    {
     "data": {
      "text/plain": [
       "'mumbai23#####'"
      ]
     },
     "execution_count": 80,
     "metadata": {},
     "output_type": "execute_result"
    }
   ],
   "source": [
    "string = '******mumbai23#####'\n",
    "string.lstrip('*')"
   ]
  },
  {
   "cell_type": "code",
   "execution_count": 81,
   "id": "f239a29b",
   "metadata": {},
   "outputs": [
    {
     "data": {
      "text/plain": [
       "'******mumbai23#####'"
      ]
     },
     "execution_count": 81,
     "metadata": {},
     "output_type": "execute_result"
    }
   ],
   "source": [
    "string = '******mumbai23#####           '\n",
    "string.strip()"
   ]
  },
  {
   "cell_type": "code",
   "execution_count": 82,
   "id": "55808c52",
   "metadata": {},
   "outputs": [
    {
     "name": "stdout",
     "output_type": "stream",
     "text": [
      "['Hello', 'World!']\n"
     ]
    }
   ],
   "source": [
    "a = \"Hello World!\"\n",
    "print(a.split(\" \")) # returns ['Hello', 'World!']"
   ]
  },
  {
   "cell_type": "code",
   "execution_count": 88,
   "id": "313af467",
   "metadata": {},
   "outputs": [
    {
     "name": "stdout",
     "output_type": "stream",
     "text": [
      "1\n"
     ]
    }
   ],
   "source": [
    "a = \"Hello World!\"\n",
    "print(a.count('l',4)) "
   ]
  },
  {
   "cell_type": "code",
   "execution_count": 89,
   "id": "63677c69",
   "metadata": {},
   "outputs": [
    {
     "name": "stdout",
     "output_type": "stream",
     "text": [
      "2\n"
     ]
    }
   ],
   "source": [
    "string = 'I love breaking bad'\n",
    "print(string.count('a'))"
   ]
  },
  {
   "cell_type": "code",
   "execution_count": 90,
   "id": "e036d5f4",
   "metadata": {},
   "outputs": [
    {
     "ename": "IndexError",
     "evalue": "list index out of range",
     "output_type": "error",
     "traceback": [
      "\u001b[1;31m---------------------------------------------------------------------------\u001b[0m",
      "\u001b[1;31mIndexError\u001b[0m                                Traceback (most recent call last)",
      "Cell \u001b[1;32mIn[90], line 23\u001b[0m\n\u001b[0;32m     21\u001b[0m \u001b[38;5;66;03m# Example usage\u001b[39;00m\n\u001b[0;32m     22\u001b[0m encrypted_message \u001b[38;5;241m=\u001b[39m \u001b[38;5;124m\"\u001b[39m\u001b[38;5;124mbmaunmdbraai\u001b[39m\u001b[38;5;124m\"\u001b[39m\n\u001b[1;32m---> 23\u001b[0m location \u001b[38;5;241m=\u001b[39m \u001b[43mdecrypt_location\u001b[49m\u001b[43m(\u001b[49m\u001b[43mencrypted_message\u001b[49m\u001b[43m)\u001b[49m\n\u001b[0;32m     24\u001b[0m \u001b[38;5;28mprint\u001b[39m(location)\n",
      "Cell \u001b[1;32mIn[90], line 5\u001b[0m, in \u001b[0;36mdecrypt_location\u001b[1;34m(encrypted_message)\u001b[0m\n\u001b[0;32m      3\u001b[0m encrypted_words \u001b[38;5;241m=\u001b[39m encrypted_message\u001b[38;5;241m.\u001b[39msplit(\u001b[38;5;124m\"\u001b[39m\u001b[38;5;124m#\u001b[39m\u001b[38;5;124m\"\u001b[39m)\n\u001b[0;32m      4\u001b[0m word1 \u001b[38;5;241m=\u001b[39m encrypted_words[\u001b[38;5;241m0\u001b[39m]\n\u001b[1;32m----> 5\u001b[0m word2 \u001b[38;5;241m=\u001b[39m \u001b[43mencrypted_words\u001b[49m\u001b[43m[\u001b[49m\u001b[38;5;241;43m1\u001b[39;49m\u001b[43m]\u001b[49m\n\u001b[0;32m      7\u001b[0m decrypted_location \u001b[38;5;241m=\u001b[39m \u001b[38;5;124m\"\u001b[39m\u001b[38;5;124m\"\u001b[39m\n\u001b[0;32m      9\u001b[0m \u001b[38;5;66;03m# Determine the length of the longer word\u001b[39;00m\n",
      "\u001b[1;31mIndexError\u001b[0m: list index out of range"
     ]
    }
   ],
   "source": [
    "def decrypt_location(encrypted_message):\n",
    "    # Split the encrypted message into two words\n",
    "    encrypted_words = encrypted_message.split(\"#\")\n",
    "    word1 = encrypted_words[0]\n",
    "    word2 = encrypted_words[1]\n",
    "\n",
    "    decrypted_location = \"\"\n",
    "\n",
    "    # Determine the length of the longer word\n",
    "    max_length = max(len(word1), len(word2))\n",
    "\n",
    "    # Decrypt the location by interleaving characters\n",
    "    for i in range(max_length):\n",
    "        if i < len(word1):\n",
    "            decrypted_location += word1[i]\n",
    "        if i < len(word2):\n",
    "            decrypted_location += word2[i]\n",
    "\n",
    "    return decrypted_location\n",
    "\n",
    "# Example usage\n",
    "encrypted_message = \"bmaunmdbraai\"\n",
    "location = decrypt_location(encrypted_message)\n",
    "print(location)  # Output: bandra,mumbai\n"
   ]
  },
  {
   "cell_type": "code",
   "execution_count": 92,
   "id": "f059d9ea",
   "metadata": {},
   "outputs": [
    {
     "name": "stdout",
     "output_type": "stream",
     "text": [
      "Enter the encrypted message: bmaunmdbraai\n",
      "bandra,mumbai\n"
     ]
    }
   ],
   "source": [
    "encrypted_message = input(\"Enter the encrypted message: \")\n",
    "\n",
    "# Determine the lengths of the words\n",
    "length = len(encrypted_message)\n",
    "half_length = length // 2\n",
    "\n",
    "# Pad the smaller word with \"#\" characters if necessary\n",
    "if length % 2 != 0:\n",
    "    encrypted_message += \"#\"\n",
    "\n",
    "# Decrypt the words\n",
    "word1 = \"\"\n",
    "word2 = \"\"\n",
    "for i in range(0, half_length * 2, 2):\n",
    "    word1 += encrypted_message[i]\n",
    "    word2 += encrypted_message[i+1]\n",
    "\n",
    "# Print the decrypted location\n",
    "print(word1 + \",\" + word2)\n"
   ]
  },
  {
   "cell_type": "code",
   "execution_count": 94,
   "id": "efcd4f8e",
   "metadata": {},
   "outputs": [
    {
     "name": "stdout",
     "output_type": "stream",
     "text": [
      ",\n"
     ]
    }
   ],
   "source": [
    "import ast,sys\n",
    "input_str = sys.stdin.read()\n",
    "#Type your code here\n",
    "#  the length of word\n",
    "length = len(input_str)\n",
    "half_length = length // 2\n",
    "\n",
    "\n",
    "# Decrypt the words\n",
    "message1 = \"\"\n",
    "message2 = \"\"\n",
    "for i in range(0, half_length * 2,2):\n",
    "    message1 += input_str[i]\n",
    "    message2 += input_str[i+1]\n",
    "\n",
    "\n",
    "\n",
    "print(message1+\",\"+ message2)"
   ]
  },
  {
   "cell_type": "code",
   "execution_count": null,
   "id": "0cb1fca6",
   "metadata": {},
   "outputs": [],
   "source": []
  }
 ],
 "metadata": {
  "kernelspec": {
   "display_name": "Python 3 (ipykernel)",
   "language": "python",
   "name": "python3"
  },
  "language_info": {
   "codemirror_mode": {
    "name": "ipython",
    "version": 3
   },
   "file_extension": ".py",
   "mimetype": "text/x-python",
   "name": "python",
   "nbconvert_exporter": "python",
   "pygments_lexer": "ipython3",
   "version": "3.10.9"
  }
 },
 "nbformat": 4,
 "nbformat_minor": 5
}
