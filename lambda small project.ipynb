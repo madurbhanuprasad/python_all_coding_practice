{
 "cells": [
  {
   "cell_type": "code",
   "execution_count": null,
   "id": "502750bc",
   "metadata": {},
   "outputs": [],
   "source": [
    "Lambda functions, also known as anonymous functions, are small,\n",
    "one-line functions in Python that can be created without a defined\n",
    "name using the lambda keyword. Lambda functions are typically used for\n",
    "simple and concise operations. Here are some examples of lambda functions in Python:"
   ]
  },
  {
   "cell_type": "code",
   "execution_count": 2,
   "id": "ba0c8f60",
   "metadata": {},
   "outputs": [
    {
     "name": "stdout",
     "output_type": "stream",
     "text": [
      "11\n"
     ]
    }
   ],
   "source": [
    "add = lambda x, y: x + y\n",
    "result = add(3, 5)\n",
    "print(result)  # Output: 8\n"
   ]
  },
  {
   "cell_type": "code",
   "execution_count": 3,
   "id": "e412047e",
   "metadata": {},
   "outputs": [
    {
     "name": "stdout",
     "output_type": "stream",
     "text": [
      "24\n"
     ]
    }
   ],
   "source": [
    "multiply = lambda x, y: x * y\n",
    "result = multiply(4, 6)\n",
    "print(result)  # Output: 24\n",
    " "
   ]
  },
  {
   "cell_type": "code",
   "execution_count": 4,
   "id": "34575e07",
   "metadata": {},
   "outputs": [
    {
     "name": "stdout",
     "output_type": "stream",
     "text": [
      "25\n"
     ]
    }
   ],
   "source": [
    "square = lambda x: x ** 2\n",
    "result = square(5)\n",
    "print(result)  # Output: 25\n",
    "  "
   ]
  },
  {
   "cell_type": "code",
   "execution_count": 6,
   "id": "d05022e0",
   "metadata": {},
   "outputs": [
    {
     "name": "stdout",
     "output_type": "stream",
     "text": [
      "False\n"
     ]
    }
   ],
   "source": [
    "is_even = lambda x: x % 2 == 0\n",
    "result = is_even(7)\n",
    "print(result)  # Output: False\n"
   ]
  },
  {
   "cell_type": "code",
   "execution_count": 9,
   "id": "4648a500",
   "metadata": {},
   "outputs": [
    {
     "name": "stdout",
     "output_type": "stream",
     "text": [
      "[(3, 'Apple'), (2, 'Banana'), (1, 'Orange')]\n"
     ]
    }
   ],
   "source": [
    "data = [(3, 'Apple'), (1, 'Orange'), (2, 'Banana')]\n",
    "sorted_data = sorted(data, key=lambda x: x[-1])\n",
    "print(sorted_data)  # Output: [(2, 'Banana'), (3, 'Apple'), (1, 'Orange')]\n"
   ]
  },
  {
   "cell_type": "code",
   "execution_count": null,
   "id": "bf1cec64",
   "metadata": {},
   "outputs": [],
   "source": [
    "lambda: This keyword is used to indicate that you are defining a lambda expression.\n",
    "arguments: These are the input parameters or arguments of the function.\n",
    "expression: This is the expression that defines the functionality of the lambda function."
   ]
  },
  {
   "cell_type": "code",
   "execution_count": 10,
   "id": "2752976b",
   "metadata": {},
   "outputs": [
    {
     "name": "stdout",
     "output_type": "stream",
     "text": [
      "['Bob', 'Eve', 'Dave', 'Alice', 'Charlie']\n"
     ]
    }
   ],
   "source": [
    "names = ['Alice', 'Bob', 'Charlie', 'Dave', 'Eve']\n",
    "\n",
    "sorted_names = sorted(names, key=lambda x: len(x))\n",
    "print(sorted_names)\n"
   ]
  },
  {
   "cell_type": "code",
   "execution_count": null,
   "id": "67745812",
   "metadata": {},
   "outputs": [],
   "source": []
  }
 ],
 "metadata": {
  "kernelspec": {
   "display_name": "Python 3 (ipykernel)",
   "language": "python",
   "name": "python3"
  },
  "language_info": {
   "codemirror_mode": {
    "name": "ipython",
    "version": 3
   },
   "file_extension": ".py",
   "mimetype": "text/x-python",
   "name": "python",
   "nbconvert_exporter": "python",
   "pygments_lexer": "ipython3",
   "version": "3.10.9"
  }
 },
 "nbformat": 4,
 "nbformat_minor": 5
}
