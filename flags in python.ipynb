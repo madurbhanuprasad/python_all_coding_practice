{
 "cells": [
  {
   "cell_type": "code",
   "execution_count": null,
   "id": "1e1629e2",
   "metadata": {},
   "outputs": [],
   "source": [
    "In Python, flags are variables or values that are used to\n",
    "indicate a specific condition or state. They are commonly\n",
    "used to control the flow of code or to store information \n",
    "for later use. Here are some examples of how flags can be\n",
    "used in Python:"
   ]
  },
  {
   "cell_type": "code",
   "execution_count": 1,
   "id": "c0e54c89",
   "metadata": {},
   "outputs": [
    {
     "name": "stdout",
     "output_type": "stream",
     "text": [
      "Do you want to exit? (yes/no): yes\n"
     ]
    }
   ],
   "source": [
    "#Exit Flag in a Loop:\n",
    "exit_flag = False\n",
    "\n",
    "while not exit_flag:\n",
    "    # Perform some operations\n",
    "    choice = input(\"Do you want to exit? (yes/no): \")\n",
    "    if choice.lower() == \"yes\":\n",
    "        exit_flag = True\n"
   ]
  },
  {
   "cell_type": "code",
   "execution_count": 7,
   "id": "3afa6db0",
   "metadata": {},
   "outputs": [
    {
     "name": "stdout",
     "output_type": "stream",
     "text": [
      "Enter username: bhanu\n",
      "Enter password: 12345678\n",
      "Valid username and password.\n"
     ]
    }
   ],
   "source": [
    "#Validation Flag:\n",
    "def is_valid(username, password):\n",
    "    # Check if the username and password are valid\n",
    "    if len(username) >= 4 and len(password) >= 8:\n",
    "        return True\n",
    "    else:\n",
    "        return False\n",
    "\n",
    "valid_flag = False\n",
    "\n",
    "while not valid_flag:\n",
    "    username = input(\"Enter username: \")\n",
    "    password = input(\"Enter password: \")\n",
    "\n",
    "    if is_valid(username, password):\n",
    "        valid_flag = True\n",
    "        print(\"Valid username and password.\")\n",
    "    else:\n",
    "        print(\"Invalid username or password. Please try again.\")\n"
   ]
  },
  {
   "cell_type": "code",
   "execution_count": null,
   "id": "6f8779d2",
   "metadata": {},
   "outputs": [],
   "source": [
    " "
   ]
  },
  {
   "cell_type": "code",
   "execution_count": 3,
   "id": "91f3658e",
   "metadata": {},
   "outputs": [
    {
     "name": "stdout",
     "output_type": "stream",
     "text": [
      "Flag is True\n"
     ]
    }
   ],
   "source": [
    "#Toggle Flag:\n",
    "toggle_flag = True\n",
    "\n",
    "if toggle_flag:\n",
    "    # Perform some operations when the flag is True\n",
    "    print(\"Flag is True\")\n",
    "else:\n",
    "    # Perform some operations when the flag is False\n",
    "    print(\"Flag is False\")\n"
   ]
  },
  {
   "cell_type": "code",
   "execution_count": null,
   "id": "ba7e0970",
   "metadata": {},
   "outputs": [],
   "source": [
    "event_flag = False\n",
    "\n",
    "def handle_event():\n",
    "    global event_flag\n",
    "    # Handle the event\n",
    "    event_flag = True\n",
    "\n",
    "while not event_flag:\n",
    "    # Wait for the event to occur\n",
    "    pass\n"
   ]
  },
  {
   "cell_type": "code",
   "execution_count": null,
   "id": "384ee644",
   "metadata": {},
   "outputs": [],
   "source": [
    "event_flag = False\n",
    "\n",
    "def handle_event():\n",
    "    global event_flag\n",
    "    # Perform event handling operations\n",
    "    print(\"Event handled successfully\")\n",
    "    event_flag = True\n",
    "\n",
    "# Simulating an event occurring\n",
    "handle_event()\n",
    "\n",
    "# Checking if the event has been handled\n",
    "if event_flag:\n",
    "    print(\"Event was handled\")\n",
    "else:\n",
    "    print(\"Event was not handled\")\n"
   ]
  },
  {
   "cell_type": "code",
   "execution_count": null,
   "id": "88d51e59",
   "metadata": {},
   "outputs": [],
   "source": []
  }
 ],
 "metadata": {
  "kernelspec": {
   "display_name": "Python 3 (ipykernel)",
   "language": "python",
   "name": "python3"
  },
  "language_info": {
   "codemirror_mode": {
    "name": "ipython",
    "version": 3
   },
   "file_extension": ".py",
   "mimetype": "text/x-python",
   "name": "python",
   "nbconvert_exporter": "python",
   "pygments_lexer": "ipython3",
   "version": "3.10.9"
  }
 },
 "nbformat": 4,
 "nbformat_minor": 5
}
