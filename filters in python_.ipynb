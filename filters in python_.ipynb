{
 "cells": [
  {
   "cell_type": "code",
   "execution_count": null,
   "id": "695f2fd6",
   "metadata": {},
   "outputs": [],
   "source": [
    "In Python, the filter() function is used to create a new iterable \n",
    "that contains only the elements from an existing iterable (such as a list) \n",
    "for which a given function returns True. The filter() function takes two arguments: \n",
    "the function to be applied and the iterable to be filtered. Here are some examples of using filter() in Python:"
   ]
  },
  {
   "cell_type": "code",
   "execution_count": null,
   "id": "c0fe9253",
   "metadata": {},
   "outputs": [],
   "source": [
    "#Filtering even numbers from a list:\n",
    "numbers = [1, 2, 3, 4, 5, 6, 7, 8, 9, 10]\n",
    "\n",
    "# Filter even numbers using filter() and lambda function\n",
    "even_numbers = filter(lambda x: x % 2 == 0, numbers)\n",
    "print(list(even_numbers))  # Output: [2, 4, 6, 8, 10]\n"
   ]
  },
  {
   "cell_type": "code",
   "execution_count": 1,
   "id": "488d7ef6",
   "metadata": {},
   "outputs": [
    {
     "name": "stdout",
     "output_type": "stream",
     "text": [
      "['hello', 'world']\n"
     ]
    }
   ],
   "source": [
    "#Removing empty strings from a list:\n",
    "strings = ['', 'hello', '', 'world', '']\n",
    "\n",
    "# Remove empty strings using filter() and str.strip()\n",
    "non_empty_strings =filter(str.strip,strings)\n",
    "print(list(non_empty_strings))  # Output: ['hello', 'world']\n"
   ]
  },
  {
   "cell_type": "code",
   "execution_count": 2,
   "id": "197f0791",
   "metadata": {},
   "outputs": [
    {
     "name": "stdout",
     "output_type": "stream",
     "text": [
      "[0.14285714285714285, 0.42857142857142855, 0.7142857142857143, 0.8571428571428571, 1.0, 0.5714285714285714]\n"
     ]
    }
   ],
   "source": [
    "list1=[1,3,5,6,7,4]\n",
    "\n",
    "def normalised(data):\n",
    "    return data/max(list1)\n",
    "\n",
    "result=list(map(normalised,list1))\n",
    "print(result)"
   ]
  },
  {
   "cell_type": "code",
   "execution_count": null,
   "id": "7ea7c6b0",
   "metadata": {},
   "outputs": [],
   "source": [
    "where we have a list of prices for products and we want to calculate \n",
    "the discounted price for each item using a given discount percentage."
   ]
  },
  {
   "cell_type": "code",
   "execution_count": 3,
   "id": "e1390cbd",
   "metadata": {},
   "outputs": [
    {
     "name": "stdout",
     "output_type": "stream",
     "text": [
      "[9.45, 18.68, 13.72, 27.36]\n"
     ]
    }
   ],
   "source": [
    "def calculate_discounted_price(price, discount_percentage):\n",
    "    discounted_price = price - (price * discount_percentage / 100)\n",
    "    return round(discounted_price, 2)\n",
    "\n",
    "# List of prices for products\n",
    "prices = [10.50, 20.75, 15.25, 30.40]\n",
    "\n",
    "# Discount percentage\n",
    "discount = 10\n",
    "\n",
    "# Calculate discounted prices using map()\n",
    "discounted_prices = list(map(lambda price: calculate_discounted_price(price, discount), prices))\n",
    "\n",
    "# Print the discounted prices\n",
    "print(discounted_prices)\n"
   ]
  },
  {
   "cell_type": "code",
   "execution_count": 12,
   "id": "b1af880f",
   "metadata": {},
   "outputs": [
    {
     "name": "stdout",
     "output_type": "stream",
     "text": [
      "[90.0, 135.0, 180.0, 108.0, 162.0]\n"
     ]
    }
   ],
   "source": [
    "#Project: Discounted Ticket Prices\n",
    "ticket_prices = [100, 150, 200, 120, 180]\n",
    "\n",
    "discounted_prices = list(map(lambda price: price * 0.9, ticket_prices))\n",
    "print(discounted_prices)\n"
   ]
  },
  {
   "cell_type": "code",
   "execution_count": 13,
   "id": "7fb0057b",
   "metadata": {},
   "outputs": [
    {
     "name": "stdout",
     "output_type": "stream",
     "text": [
      "[2, 3, 5, 7, 11, 13, 17, 19]\n"
     ]
    }
   ],
   "source": [
    "def is_prime(n):\n",
    "    if n < 2:\n",
    "        return False\n",
    "    for i in range(2, int(n ** 0.5) + 1):\n",
    "        if n % i == 0:\n",
    "            return False\n",
    "    return True\n",
    "\n",
    "numbers = range(1, 20)\n",
    "\n",
    "prime_numbers = list(filter(is_prime, numbers))\n",
    "print(prime_numbers)\n"
   ]
  },
  {
   "cell_type": "code",
   "execution_count": null,
   "id": "0355c7a5",
   "metadata": {},
   "outputs": [],
   "source": [
    "students = [\n",
    "    {\"name\": \"Alice\", \"grade\": 80},\n",
    "    {\"name\": \"Bob\", \"grade\": 65},\n",
    "    {\"name\": \"Charlie\", \"grade\": 90},\n",
    "    {\"name\": \"Dave\", \"grade\": 75}\n",
    "]\n",
    "\n",
    "passing_students = list(filter(lambda student: student[\"grade\"] >= 70, students))\n",
    "print(passing_students)\n"
   ]
  },
  {
   "cell_type": "code",
   "execution_count": 16,
   "id": "a6b3c059",
   "metadata": {},
   "outputs": [
    {
     "name": "stdout",
     "output_type": "stream",
     "text": [
      "[{'name': 'alice', 'grade': 80}, {'name': 'raghu', 'grade': 98}]\n"
     ]
    }
   ],
   "source": [
    "students=[\n",
    "    {\"name\":\"alice\",\"grade\":80},\n",
    "    {\"name\":\"bhanu\",\"grade\":40},\n",
    "    {\"name\":\"raghu\",\"grade\":98}\n",
    "]\n",
    "\n",
    "passing_students=list(filter(lambda student:student[\"grade\"] >55, students))\n",
    "print(passing_students)"
   ]
  },
  {
   "cell_type": "code",
   "execution_count": 17,
   "id": "d85d19ae",
   "metadata": {},
   "outputs": [
    {
     "name": "stdout",
     "output_type": "stream",
     "text": [
      "Bob\n",
      "Charlie\n"
     ]
    }
   ],
   "source": [
    "#Project: Filtering Employees by Department\n",
    "\n",
    "# Sample list of employees\n",
    "employees = [\n",
    "    {\"name\": \"Alice\", \"department\": \"HR\"},\n",
    "    {\"name\": \"Bob\", \"department\": \"IT\"},\n",
    "    {\"name\": \"Charlie\", \"department\": \"IT\"},\n",
    "    {\"name\": \"Dave\", \"department\": \"Finance\"},\n",
    "    {\"name\": \"Eve\", \"department\": \"HR\"}\n",
    "]\n",
    "\n",
    "# Filter employees by department\n",
    "department = \"IT\"\n",
    "it_employees = list(filter(lambda emp: emp[\"department\"] == department, employees))\n",
    "\n",
    "# Print the IT employees\n",
    "for emp in it_employees:\n",
    "    print(emp[\"name\"])\n"
   ]
  },
  {
   "cell_type": "code",
   "execution_count": null,
   "id": "9ff115a4",
   "metadata": {},
   "outputs": [],
   "source": []
  }
 ],
 "metadata": {
  "kernelspec": {
   "display_name": "Python 3 (ipykernel)",
   "language": "python",
   "name": "python3"
  },
  "language_info": {
   "codemirror_mode": {
    "name": "ipython",
    "version": 3
   },
   "file_extension": ".py",
   "mimetype": "text/x-python",
   "name": "python",
   "nbconvert_exporter": "python",
   "pygments_lexer": "ipython3",
   "version": "3.10.9"
  }
 },
 "nbformat": 4,
 "nbformat_minor": 5
}
