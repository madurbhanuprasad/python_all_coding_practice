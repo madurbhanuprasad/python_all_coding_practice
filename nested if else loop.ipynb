{
 "cells": [
  {
   "cell_type": "code",
   "execution_count": null,
   "id": "a1c5e836",
   "metadata": {},
   "outputs": [],
   "source": [
    "       "
   ]
  },
  {
   "cell_type": "code",
   "execution_count": 3,
   "id": "599908d7",
   "metadata": {},
   "outputs": [
    {
     "name": "stdout",
     "output_type": "stream",
     "text": [
      "Final Ticket Price: 95\n"
     ]
    }
   ],
   "source": [
    "# Ticket Pricing Example\n",
    "seat_category = \"Premium\"  # Example seat category\n",
    "age = 25  # Example age\n",
    "is_member = True  # Example membership status\n",
    "\n",
    "# Base price for the seat category\n",
    "if seat_category == \"Premium\":\n",
    "    base_price = 100\n",
    "elif seat_category == \"Standard\":\n",
    "    base_price = 75\n",
    "else:\n",
    "    base_price = 50\n",
    "\n",
    "# Additional price adjustments based on age and membership status\n",
    "if age < 18:\n",
    "    price_adjustment = -10  # Discount for age group under 18\n",
    "elif age >= 60:\n",
    "    price_adjustment = -15  # Discount for age group 60 and above\n",
    "else:\n",
    "    price_adjustment = 0\n",
    "\n",
    "if is_member:\n",
    "    price_adjustment += -5  # Additional discount for members\n",
    "\n",
    "# Calculate the final ticket price\n",
    "ticket_price = base_price + price_adjustment\n",
    "\n",
    "# Print the final ticket price\n",
    "print(\"Final Ticket Price:\", ticket_price)\n",
    "     \n",
    "\n",
    "\n",
    "  \n",
    "\n"
   ]
  },
  {
   "cell_type": "code",
   "execution_count": null,
   "id": "cfcda8cd",
   "metadata": {},
   "outputs": [],
   "source": [
    " loan applications and determining loan approval in a banking system:"
   ]
  },
  {
   "cell_type": "code",
   "execution_count": 5,
   "id": "4ace2c43",
   "metadata": {},
   "outputs": [
    {
     "name": "stdout",
     "output_type": "stream",
     "text": [
      "Congratulations! Your loan is approved.\n"
     ]
    }
   ],
   "source": [
    "# Loan Approval Example\n",
    "credit_score = 750  # Example credit score\n",
    "income = 50000  # Example annual income\n",
    "employment_history = 3  # Example years of employment history\n",
    "debt_to_income_ratio = 0.4  # Example debt-to-income ratio\n",
    "\n",
    "# General loan eligibility based on credit score\n",
    "if credit_score >= 700:\n",
    "    # Additional eligibility criteria based on income and employment history\n",
    "    if income >= 30000 and employment_history >= 2:\n",
    "        # Further assessment based on debt-to-income ratio\n",
    "        if debt_to_income_ratio <= 0.5:\n",
    "            loan_approval = True  # Loan is approved\n",
    "        else:\n",
    "            loan_approval = False  # Loan is denied due to high debt-to-income ratio\n",
    "    else:\n",
    "        loan_approval = False  # Loan is denied due to insufficient income or employment history\n",
    "else:\n",
    "    loan_approval = False  # Loan is denied due to low credit score\n",
    "\n",
    "# Print loan approval status\n",
    "if loan_approval:\n",
    "    print(\"Congratulations! Your loan is approved.\")\n",
    "else:\n",
    "    print(\"We regret to inform you that your loan application is denied.\")\n",
    "\n"
   ]
  },
  {
   "cell_type": "code",
   "execution_count": 6,
   "id": "b8dc53fe",
   "metadata": {},
   "outputs": [
    {
     "name": "stdout",
     "output_type": "stream",
     "text": [
      "Employee Benefits:\n",
      "Medical Allowance: 2000\n",
      "Travel Allowance: 3000\n",
      "Performance Bonus: 5000\n"
     ]
    }
   ],
   "source": [
    "# Employee Benefits Example\n",
    "job_position = \"Manager\"  # Example job position\n",
    "years_of_service = 5  # Example years of service\n",
    "performance_rating = 4  # Example performance rating\n",
    "\n",
    "# Initialize variables for benefits and allowances\n",
    "medical_allowance = 0\n",
    "travel_allowance = 0\n",
    "performance_bonus = 0\n",
    "\n",
    "# Determine benefits based on job position\n",
    "if job_position == \"Manager\":\n",
    "    # Additional benefits based on years of service\n",
    "    if years_of_service >= 5:\n",
    "        medical_allowance = 2000\n",
    "        travel_allowance = 3000\n",
    "    else:\n",
    "        medical_allowance = 1500\n",
    "        travel_allowance = 2000\n",
    "elif job_position == \"Senior Analyst\":\n",
    "    medical_allowance = 1000\n",
    "    travel_allowance = 1500\n",
    "else:\n",
    "    medical_allowance = 500\n",
    "    travel_allowance = 1000\n",
    "\n",
    "# Determine performance bonus based on performance rating\n",
    "if performance_rating >= 4:\n",
    "    performance_bonus = 5000\n",
    "elif performance_rating == 3:\n",
    "    performance_bonus = 3000\n",
    "else:\n",
    "    performance_bonus = 0\n",
    "\n",
    "# Print employee benefits\n",
    "print(\"Employee Benefits:\")\n",
    "print(\"Medical Allowance:\", medical_allowance)\n",
    "print(\"Travel Allowance:\", travel_allowance)\n",
    "print(\"Performance Bonus:\", performance_bonus)\n",
    "        "
   ]
  },
  {
   "cell_type": "code",
   "execution_count": null,
   "id": "66f959c3",
   "metadata": {},
   "outputs": [],
   "source": []
  }
 ],
 "metadata": {
  "kernelspec": {
   "display_name": "Python 3 (ipykernel)",
   "language": "python",
   "name": "python3"
  },
  "language_info": {
   "codemirror_mode": {
    "name": "ipython",
    "version": 3
   },
   "file_extension": ".py",
   "mimetype": "text/x-python",
   "name": "python",
   "nbconvert_exporter": "python",
   "pygments_lexer": "ipython3",
   "version": "3.10.9"
  }
 },
 "nbformat": 4,
 "nbformat_minor": 5
}
