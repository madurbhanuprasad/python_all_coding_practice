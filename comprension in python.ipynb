{
 "cells": [
  {
   "cell_type": "code",
   "execution_count": null,
   "id": "3c41e34f",
   "metadata": {},
   "outputs": [],
   "source": [
    " comprehensions provide a concise and efficient way to\n",
    "    create new lists, dictionaries, and sets based on \n",
    "    existing iterables. Comprehensions are expressions that \n",
    "    combine loops and conditional statements within a single \n",
    "    line of code. Here are examples of comprehensions\n",
    "    for lists, dictionaries, and sets:"
   ]
  },
  {
   "cell_type": "code",
   "execution_count": 1,
   "id": "5bdb6065",
   "metadata": {},
   "outputs": [
    {
     "name": "stdout",
     "output_type": "stream",
     "text": [
      "[1, 4, 9, 16, 25]\n"
     ]
    }
   ],
   "source": [
    "#List Comprehension:\n",
    "# Squaring numbers in a list\n",
    "numbers = [1, 2, 3, 4, 5]\n",
    "squared_numbers = [x**2 for x in numbers]\n",
    "print(squared_numbers)\n",
    "# Output: [1, 4, 9, 16, 25]\n"
   ]
  },
  {
   "cell_type": "code",
   "execution_count": 2,
   "id": "23f04cec",
   "metadata": {},
   "outputs": [
    {
     "name": "stdout",
     "output_type": "stream",
     "text": [
      "{1: 1, 2: 4, 3: 9, 4: 16, 5: 25}\n"
     ]
    }
   ],
   "source": [
    "#Dictionary Comprehension:\n",
    "# Creating a dictionary with number: square pairs\n",
    "numbers = [1, 2, 3, 4, 5]\n",
    "square_dict = {x: x**2 for x in numbers}\n",
    "print(square_dict)\n",
    "# Output: {1: 1, 2: 4, 3: 9, 4: 16, 5: 25}\n"
   ]
  },
  {
   "cell_type": "code",
   "execution_count": null,
   "id": "e60bbe8c",
   "metadata": {},
   "outputs": [],
   "source": [
    "#Set Comprehension:\n",
    "# Creating a set with unique squares of numbers\n",
    "numbers = [1, 2, 3, 4, 5, 5]\n",
    "unique_squares = {x**2 for x in numbers}\n",
    "print(unique_squares)\n",
    "# Output: {1, 4, 9, 16, 25}\n"
   ]
  },
  {
   "cell_type": "code",
   "execution_count": null,
   "id": "63a21b4c",
   "metadata": {},
   "outputs": [],
   "source": [
    "#List Comprehension with Conditional:\n",
    "\n",
    "# Filtering even numbers from a list\n",
    "numbers = [1, 2, 3, 4, 5]\n",
    "even_numbers = [x for x in numbers if x % 2 == 0]\n",
    "print(even_numbers)\n",
    "# Output: [2, 4]\n",
    "\n"
   ]
  },
  {
   "cell_type": "code",
   "execution_count": null,
   "id": "45c9dd1d",
   "metadata": {},
   "outputs": [],
   "source": [
    "#Dictionary Comprehension with Conditional:\n",
    "# Creating a dictionary with even numbers and their squares\n",
    "numbers = [1, 2, 3, 4, 5]\n",
    "even_square_dict = {x: x**2 for x in numbers if x % 2 == 0}\n",
    "print(even_square_dict)\n",
    "# Output: {2: 4, 4: 16}\n"
   ]
  },
  {
   "cell_type": "code",
   "execution_count": null,
   "id": "640b24af",
   "metadata": {},
   "outputs": [],
   "source": [
    "#Set Comprehension with Conditional:\n",
    "# Creating a set with odd squares of numbers\n",
    "numbers = [1, 2, 3, 4, 5]\n",
    "odd_squares = {x**2 for x in numbers if x % 2 != 0}\n",
    "print(odd_squares)\n",
    "# Output: {1, 9, 25}\n"
   ]
  }
 ],
 "metadata": {
  "kernelspec": {
   "display_name": "Python 3 (ipykernel)",
   "language": "python",
   "name": "python3"
  },
  "language_info": {
   "codemirror_mode": {
    "name": "ipython",
    "version": 3
   },
   "file_extension": ".py",
   "mimetype": "text/x-python",
   "name": "python",
   "nbconvert_exporter": "python",
   "pygments_lexer": "ipython3",
   "version": "3.10.9"
  }
 },
 "nbformat": 4,
 "nbformat_minor": 5
}
