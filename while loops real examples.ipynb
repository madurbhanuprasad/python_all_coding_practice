{
 "cells": [
  {
   "cell_type": "code",
   "execution_count": 1,
   "id": "fc097930",
   "metadata": {},
   "outputs": [
    {
     "ename": "SyntaxError",
     "evalue": "invalid syntax (3048596981.py, line 1)",
     "output_type": "error",
     "traceback": [
      "\u001b[1;36m  Cell \u001b[1;32mIn[1], line 1\u001b[1;36m\u001b[0m\n\u001b[1;33m    User Input Validation: When accepting user input, a while\u001b[0m\n\u001b[1;37m         ^\u001b[0m\n\u001b[1;31mSyntaxError\u001b[0m\u001b[1;31m:\u001b[0m invalid syntax\n"
     ]
    }
   ],
   "source": [
    "User Input Validation: When accepting user input, a while\n",
    "    loop can be used to repeatedly prompt the user until valid input is provided.\n",
    "    For example, if expecting a numeric \n",
    "    input between 1 and 100,\n",
    "    a while loop can continuously ask for input until a valid number \n",
    "    within the specified range is entered.       "
   ]
  },
  {
   "cell_type": "code",
   "execution_count": 5,
   "id": "ab4e4bbf",
   "metadata": {},
   "outputs": [
    {
     "name": "stdout",
     "output_type": "stream",
     "text": [
      "Enter a number between 1 and 100: 45\n"
     ]
    }
   ],
   "source": [
    "user_input = None\n",
    "while user_input is None or user_input < 1 or user_input > 100:\n",
    "    user_input = int(input(\"Enter a number between 1 and 100: \"))\n"
   ]
  },
  {
   "cell_type": "code",
   "execution_count": 7,
   "id": "184a3457",
   "metadata": {},
   "outputs": [
    {
     "ename": "SyntaxError",
     "evalue": "invalid syntax (1238875774.py, line 1)",
     "output_type": "error",
     "traceback": [
      "\u001b[1;36m  Cell \u001b[1;32mIn[7], line 1\u001b[1;36m\u001b[0m\n\u001b[1;33m    A while loop can be used to implement a countdown timer where a task is repeated until\u001b[0m\n\u001b[1;37m      ^\u001b[0m\n\u001b[1;31mSyntaxError\u001b[0m\u001b[1;31m:\u001b[0m invalid syntax\n"
     ]
    }
   ],
   "source": [
    "A while loop can be used to implement a countdown timer where a task is repeated until\n",
    "a certain time limit is reached. For example, you can create a countdown timer that runs\n",
    "for 60 seconds, performing a specific action each second until the timer expires.\n"
   ]
  },
  {
   "cell_type": "code",
   "execution_count": 8,
   "id": "95e96542",
   "metadata": {},
   "outputs": [
    {
     "name": "stdout",
     "output_type": "stream",
     "text": [
      "60\n",
      "59\n",
      "58\n",
      "57\n",
      "56\n",
      "55\n",
      "54\n",
      "53\n",
      "52\n",
      "51\n",
      "50\n",
      "49\n",
      "48\n",
      "47\n",
      "46\n",
      "45\n",
      "44\n",
      "43\n",
      "42\n",
      "41\n",
      "40\n",
      "39\n",
      "38\n",
      "37\n",
      "36\n",
      "35\n",
      "34\n",
      "33\n",
      "32\n",
      "31\n",
      "30\n",
      "29\n",
      "28\n",
      "27\n",
      "26\n",
      "25\n",
      "24\n",
      "23\n",
      "22\n",
      "21\n",
      "20\n",
      "19\n",
      "18\n",
      "17\n",
      "16\n",
      "15\n",
      "14\n",
      "13\n",
      "12\n",
      "11\n",
      "10\n",
      "9\n",
      "8\n",
      "7\n",
      "6\n",
      "5\n",
      "4\n",
      "3\n",
      "2\n",
      "1\n",
      "time up\n"
     ]
    }
   ],
   "source": [
    "import time\n",
    "\n",
    "seconds=60\n",
    "while seconds>0:\n",
    "    print(seconds)\n",
    "    time.sleep(1)\n",
    "    seconds-=1\n",
    "print(\"time up\")\n",
    "\n",
    "\n"
   ]
  },
  {
   "cell_type": "code",
   "execution_count": null,
   "id": "1e4ac9a2",
   "metadata": {},
   "outputs": [],
   "source": [
    "Here's an example code for a patient registration program that uses a while loop to \n",
    "continuously prompt for patient information until the staff indicates that registration is complete:"
   ]
  },
  {
   "cell_type": "code",
   "execution_count": null,
   "id": "efaf3885",
   "metadata": {},
   "outputs": [
    {
     "name": "stdout",
     "output_type": "stream",
     "text": [
      "Patient Registration\n",
      "--------------------\n",
      "Enter patient name: bhanu\n",
      "Enter patient age: 65\n",
      "Enter patient medical history: all is well\n",
      "Do you want to register another patient? (yes/no): yes\n",
      "Patient Registration\n",
      "--------------------\n"
     ]
    }
   ],
   "source": [
    "# Patient Registration Program\n",
    "\n",
    "patients = []  # List to store registered patients\n",
    "\n",
    "while True:\n",
    "    print(\"Patient Registration\")\n",
    "    print(\"--------------------\")\n",
    "\n",
    "    # Prompt for patient information\n",
    "    name = input(\"Enter patient name: \")\n",
    "    age = input(\"Enter patient age: \")\n",
    "    medical_history = input(\"Enter patient medical history: \")\n",
    "\n",
    "    # Create a dictionary to store patient details\n",
    "    patient = {\n",
    "        \"Name\": name,\n",
    "        \"Age\": age,\n",
    "        \"Medical History\": medical_history\n",
    "    }\n",
    "\n",
    "    # Add patient to the list of registered patients\n",
    "    patients.append(patient)\n",
    "\n",
    "    # Check if the staff wants to register another patient\n",
    "    choice = input(\"Do you want to register another patient? (yes/no): \")\n",
    "    if choice.lower() != \"yes\":\n",
    "        break  # Exit the while loop if the staff indicates registration is complete\n",
    "\n",
    "# Print the registered patients' details\n",
    "print(\"\\nRegistered Patients\")\n",
    "print(\"-------------------\")\n",
    "for patient in patients:\n",
    "    print(\"Name:\", patient[\"Name\"])\n",
    "    print(\"Age:\", patient[\"Age\"])\n",
    "    print(\"Medical History:\", patient[\"Medical History\"])\n",
    "    print(\"-------------------\")\n"
   ]
  },
  {
   "cell_type": "code",
   "execution_count": null,
   "id": "7946cadb",
   "metadata": {},
   "outputs": [],
   "source": [
    "Here's an example code for a patient monitoring system that continuously checks \n",
    "vital signs and alerts medical staff if any readings fall outside the normal range.\n",
    "It uses a while loop to keep monitoring the patient's vital signs until a decision is made to stop monitoring:"
   ]
  },
  {
   "cell_type": "code",
   "execution_count": null,
   "id": "c95b6826",
   "metadata": {},
   "outputs": [],
   "source": []
  },
  {
   "cell_type": "code",
   "execution_count": null,
   "id": "d52a2f18",
   "metadata": {},
   "outputs": [],
   "source": [
    "# Patient Monitoring System\n",
    "\n",
    "def check_vital_signs(heart_rate, blood_pressure):\n",
    "    # Function to check the vital signs and return True if any readings are abnormal\n",
    "    if heart_rate < 60 or heart_rate > 100:\n",
    "        return True\n",
    "    if blood_pressure < 90 or blood_pressure > 140:\n",
    "        return True\n",
    "    return False\n",
    "\n",
    "monitoring = True\n",
    "\n",
    "while monitoring:\n",
    "    print(\"Patient Monitoring\")\n",
    "    print(\"------------------\")\n",
    "\n",
    "    # Prompt for vital signs\n",
    "    heart_rate = int(input(\"Enter heart rate (beats per minute): \"))\n",
    "    blood_pressure = int(input(\"Enter blood pressure (mmHg): \"))\n",
    "\n",
    "    # Check the vital signs\n",
    "    if check_vital_signs(heart_rate, blood_pressure):\n",
    "        print(\"ALERT: Abnormal vital signs detected! Notify medical staff.\")\n",
    "\n",
    "    # Check if monitoring should continue\n",
    "    choice = input(\"Continue monitoring? (yes/no): \")\n",
    "    if choice.lower() != \"yes\":\n",
    "        monitoring = False  # Stop monitoring if the choice is not \"yes\"\n",
    "\n",
    "print(\"Monitoring stopped.\")\n"
   ]
  },
  {
   "cell_type": "code",
   "execution_count": null,
   "id": "385e578b",
   "metadata": {},
   "outputs": [],
   "source": []
  },
  {
   "cell_type": "code",
   "execution_count": null,
   "id": "f1c3f82d",
   "metadata": {},
   "outputs": [],
   "source": [
    "import datetime\n",
    "\n",
    "def check_medication_time(current_time, medication_schedule):\n",
    "    # Function to check if the current time matches any scheduled medication time\n",
    "    for medication_time in medication_schedule:\n",
    "        if medication_time == current_time:\n",
    "            return True\n",
    "    return False\n",
    "\n",
    "# Example medication schedule (replace with your own)\n",
    "medication_schedule = [\n",
    "    datetime.time(8, 0),  # 8:00 AM\n",
    "    datetime.time(12, 30),  # 12:30 PM\n",
    "    datetime.time(18, 0)  # 6:00 PM\n",
    "]\n",
    "\n",
    "finished_for_day = False\n",
    "\n",
    "while not finished_for_day:\n",
    "    print(\"Medication Reminder\")\n",
    "    print(\"-------------------\")\n",
    "\n",
    "    current_time = datetime.datetime.now().time()\n",
    "\n",
    "    # Check if it's time to take medication\n",
    "    if check_medication_time(current_time, medication_schedule):\n",
    "        print(\"Reminder: It's time to take your medication.\")\n",
    "\n",
    "    # Check if all doses for the day have been completed\n",
    "    if current_time >= medication_schedule[-1]:\n",
    "        choice = input(\"Have you taken all the doses for the day? (yes/no): \")\n",
    "        if choice.lower() == \"yes\":\n",
    "            finished_for_day = True\n",
    "\n",
    "    # Delay for a short duration before checking again (e.g., every 5 minutes)\n",
    "    # You can adjust the duration based on your requirements\n",
    "    # Be sure to handle interruptions and exceptions appropriately in a real application\n",
    "    datetime.datetime.now()\n",
    "    datetime.datetime.now() + datetime.timedelta(minutes=5)\n",
    "\n",
    "print(\"Medication reminders completed for the day.\")\n"
   ]
  },
  {
   "cell_type": "code",
   "execution_count": null,
   "id": "b00f62e1",
   "metadata": {},
   "outputs": [],
   "source": [
    "use of a while loop in a Flipkart-like e-commerce scenario,\n",
    "let's consider an example where we want to simulate a shopping\n",
    "cart that allows users to add products until they decide to check out."
   ]
  },
  {
   "cell_type": "code",
   "execution_count": null,
   "id": "89c92a15",
   "metadata": {},
   "outputs": [],
   "source": [
    "# Flipkart-like Shopping Cart\n",
    "\n",
    "# Initialize an empty cart\n",
    "cart = []\n",
    "\n",
    "# Display available products\n",
    "products = {\n",
    "    'P1': 'Product 1',\n",
    "    'P2': 'Product 2',\n",
    "    'P3': 'Product 3',\n",
    "    'P4': 'Product 4',\n",
    "    'P5': 'Product 5'\n",
    "}\n",
    "\n",
    "print(\"Welcome to Flipkart\")\n",
    "print(\"Available Products:\")\n",
    "for product_id, product_name in products.items():\n",
    "    print(f\"{product_id}: {product_name}\")\n",
    "\n",
    "# Start shopping loop\n",
    "while True:\n",
    "    # Prompt user to add a product to the cart\n",
    "    product_id = input(\"Enter the product ID to add to the cart (or 'checkout' to complete shopping): \")\n",
    "\n",
    "    if product_id.lower() == 'checkout':\n",
    "        break  # Exit the loop if the user chooses to check out\n",
    "\n",
    "    # Check if the product exists in the available products\n",
    "    if product_id in products:\n",
    "        # Add the product to the cart\n",
    "        cart.append(products[product_id])\n",
    "        print(f\"{products[product_id]} added to the cart.\")\n",
    "    else:\n",
    "        print(\"Invalid product ID. Please try again.\")\n",
    "\n",
    "# Display the final cart contents\n",
    "print(\"\\nShopping Cart:\")\n",
    "if len(cart) > 0:\n",
    "    for item in cart:\n",
    "        print(item)\n",
    "else:\n",
    "    print(\"Your cart is empty.\")\n",
    "\n",
    "print(\"Thank you for shopping with us!\")\n"
   ]
  },
  {
   "cell_type": "code",
   "execution_count": null,
   "id": "e585a772",
   "metadata": {},
   "outputs": [],
   "source": []
  }
 ],
 "metadata": {
  "kernelspec": {
   "display_name": "Python 3 (ipykernel)",
   "language": "python",
   "name": "python3"
  },
  "language_info": {
   "codemirror_mode": {
    "name": "ipython",
    "version": 3
   },
   "file_extension": ".py",
   "mimetype": "text/x-python",
   "name": "python",
   "nbconvert_exporter": "python",
   "pygments_lexer": "ipython3",
   "version": "3.10.9"
  }
 },
 "nbformat": 4,
 "nbformat_minor": 5
}
