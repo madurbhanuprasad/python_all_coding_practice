{
 "cells": [
  {
   "cell_type": "code",
   "execution_count": null,
   "id": "8d56151e",
   "metadata": {},
   "outputs": [],
   "source": [
    "he reduce() function in Python is part of the functools module and \n",
    "is used to apply a function to an iterable and reduce it to a single\n",
    "value by performing a cumulative operation on the elements. Here are a \n",
    "few examples of how the reduce() function can be used:"
   ]
  },
  {
   "cell_type": "code",
   "execution_count": 2,
   "id": "2513b8bd",
   "metadata": {},
   "outputs": [
    {
     "name": "stdout",
     "output_type": "stream",
     "text": [
      "15\n"
     ]
    }
   ],
   "source": [
    "from functools import reduce\n",
    "numbers=[1,2,3,4,5]\n",
    "\n",
    "sum_of_numbers=reduce(lambda x,y:x+y,numbers)\n",
    "print(sum_of_numbers)\n"
   ]
  },
  {
   "cell_type": "code",
   "execution_count": 3,
   "id": "088302fb",
   "metadata": {},
   "outputs": [
    {
     "name": "stdout",
     "output_type": "stream",
     "text": [
      "9\n"
     ]
    }
   ],
   "source": [
    "#Finding the Maximum Number in a List:\n",
    "from functools import reduce\n",
    "\n",
    "numbers=[3,5,6,8,9]\n",
    "max_num=reduce(lambda x,y:x if x>y else y,numbers)\n",
    "print(max_num)\n"
   ]
  },
  {
   "cell_type": "code",
   "execution_count": 4,
   "id": "e5a714c8",
   "metadata": {},
   "outputs": [
    {
     "name": "stdout",
     "output_type": "stream",
     "text": [
      "Hello World!\n"
     ]
    }
   ],
   "source": [
    "#Concatenating Strings in a List:\n",
    "from functools import reduce\n",
    "\n",
    "strings = [\"Hello\", \" \", \"World\", \"!\"]\n",
    "\n",
    "concatenated_string = reduce(lambda x, y: x + y, strings)\n",
    "print(concatenated_string)\n"
   ]
  },
  {
   "cell_type": "code",
   "execution_count": null,
   "id": "8ff8df7f",
   "metadata": {},
   "outputs": [],
   "source": []
  }
 ],
 "metadata": {
  "kernelspec": {
   "display_name": "Python 3 (ipykernel)",
   "language": "python",
   "name": "python3"
  },
  "language_info": {
   "codemirror_mode": {
    "name": "ipython",
    "version": 3
   },
   "file_extension": ".py",
   "mimetype": "text/x-python",
   "name": "python",
   "nbconvert_exporter": "python",
   "pygments_lexer": "ipython3",
   "version": "3.10.9"
  }
 },
 "nbformat": 4,
 "nbformat_minor": 5
}
