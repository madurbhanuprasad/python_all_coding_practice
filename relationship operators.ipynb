{
 "cells": [
  {
   "cell_type": "code",
   "execution_count": 1,
   "id": "26ba57ee",
   "metadata": {},
   "outputs": [
    {
     "ename": "SyntaxError",
     "evalue": "invalid syntax (845835462.py, line 1)",
     "output_type": "error",
     "traceback": [
      "\u001b[1;36m  Cell \u001b[1;32mIn[1], line 1\u001b[1;36m\u001b[0m\n\u001b[1;33m    Relational Operators in python real examples\u001b[0m\n\u001b[1;37m               ^\u001b[0m\n\u001b[1;31mSyntaxError\u001b[0m\u001b[1;31m:\u001b[0m invalid syntax\n"
     ]
    }
   ],
   "source": [
    "\n",
    "Relational Operators in python real examples "
   ]
  },
  {
   "cell_type": "code",
   "execution_count": 2,
   "id": "8edd4903",
   "metadata": {},
   "outputs": [
    {
     "name": "stdout",
     "output_type": "stream",
     "text": [
      "Pass\n"
     ]
    }
   ],
   "source": [
    "score = 85\n",
    "passing_threshold = 60\n",
    "\n",
    "if score >= passing_threshold:\n",
    "    print(\"Pass\")\n",
    "else:\n",
    "    print(\"Fail\")\n"
   ]
  },
  {
   "cell_type": "code",
   "execution_count": null,
   "id": "e4b335ef",
   "metadata": {},
   "outputs": [],
   "source": [
    " Comparison of Strings:"
   ]
  },
  {
   "cell_type": "code",
   "execution_count": 3,
   "id": "7f9fb9cc",
   "metadata": {},
   "outputs": [
    {
     "name": "stdout",
     "output_type": "stream",
     "text": [
      "['Alice', 'Bob', 'Charlie', 'David']\n"
     ]
    }
   ],
   "source": [
    "  names = [\"Alice\", \"Bob\", \"Charlie\", \"David\"]\n",
    "sorted_names = sorted(names)\n",
    "\n",
    "print(sorted_names)\n"
   ]
  },
  {
   "cell_type": "code",
   "execution_count": 4,
   "id": "f9d47d92",
   "metadata": {},
   "outputs": [
    {
     "name": "stdout",
     "output_type": "stream",
     "text": [
      "The strings are equal.\n"
     ]
    }
   ],
   "source": [
    "  string1 = \"Hello\"\n",
    "string2 = \"Hello\"\n",
    "\n",
    "if string1 == string2:\n",
    "    print(\"The strings are equal.\")\n",
    "else:\n",
    "    print(\"The strings are not equal.\")\n",
    "     "
   ]
  },
  {
   "cell_type": "code",
   "execution_count": 5,
   "id": "4845cbf6",
   "metadata": {},
   "outputs": [
    {
     "name": "stdout",
     "output_type": "stream",
     "text": [
      "The strings are not equal.\n"
     ]
    }
   ],
   "source": [
    "          string1 = \"Hello\"\n",
    "string2 = \"World\"\n",
    "\n",
    "if string1 != string2:\n",
    "    print(\"The strings are not equal.\")\n",
    "else:\n",
    "    print(\"The strings are equal.\")\n"
   ]
  },
  {
   "cell_type": "code",
   "execution_count": 6,
   "id": "39acf044",
   "metadata": {},
   "outputs": [
    {
     "name": "stdout",
     "output_type": "stream",
     "text": [
      "string1 comes before string2.\n"
     ]
    }
   ],
   "source": [
    "string1 = \"Apple\"\n",
    "string2 = \"Banana\"\n",
    "\n",
    "if string1 < string2:\n",
    "    print(\"string1 comes before string2.\")\n",
    "elif string1 > string2:\n",
    "    print(\"string1 comes after string2.\")\n",
    "else:\n",
    "    print(\"The strings are equal.\")\n"
   ]
  },
  {
   "cell_type": "code",
   "execution_count": null,
   "id": "95b8367a",
   "metadata": {},
   "outputs": [],
   "source": [
    " Comparison of Boolean Values:"
   ]
  },
  {
   "cell_type": "code",
   "execution_count": 7,
   "id": "194b83d8",
   "metadata": {},
   "outputs": [
    {
     "name": "stdout",
     "output_type": "stream",
     "text": [
      "The Boolean values are not equal.\n"
     ]
    }
   ],
   "source": [
    "value1 = True\n",
    "value2 = False\n",
    "\n",
    "if value1 == value2:\n",
    "    print(\"The Boolean values are equal.\")\n",
    "else:\n",
    "    print(\"The Boolean values are not equal.\")\n",
    "   "
   ]
  },
  {
   "cell_type": "code",
   "execution_count": 8,
   "id": "27c2e432",
   "metadata": {},
   "outputs": [
    {
     "name": "stdout",
     "output_type": "stream",
     "text": [
      "The Boolean values are not equal.\n"
     ]
    }
   ],
   "source": [
    "        value1 = True\n",
    "value2 = False\n",
    "\n",
    "if value1 != value2:\n",
    "    print(\"The Boolean values are not equal.\")\n",
    "else:\n",
    "    print(\"The Boolean values are equal.\")\n"
   ]
  },
  {
   "cell_type": "code",
   "execution_count": 9,
   "id": "c4a6e9e0",
   "metadata": {},
   "outputs": [
    {
     "name": "stdout",
     "output_type": "stream",
     "text": [
      "User is logged in.\n"
     ]
    }
   ],
   "source": [
    "is_logged_in = True\n",
    "\n",
    "if is_logged_in:\n",
    "    print(\"User is logged in.\")\n",
    "else:\n",
    "    print(\"User is not logged in.\")\n"
   ]
  },
  {
   "cell_type": "code",
   "execution_count": null,
   "id": "04b5e3b1",
   "metadata": {},
   "outputs": [],
   "source": [
    "  "
   ]
  },
  {
   "cell_type": "code",
   "execution_count": null,
   "id": "198b9b3e",
   "metadata": {},
   "outputs": [],
   "source": [
    "Membership Testing:"
   ]
  },
  {
   "cell_type": "code",
   "execution_count": 10,
   "id": "69bf9dd3",
   "metadata": {},
   "outputs": [
    {
     "name": "stdout",
     "output_type": "stream",
     "text": [
      "Access denied.\n"
     ]
    }
   ],
   "source": [
    "authorized_users = [\"Alice\", \"Bob\", \"Charlie\"]\n",
    "user = \"David\"\n",
    "\n",
    "if user in authorized_users:\n",
    "    print(\"Access granted.\")\n",
    "else:\n",
    "    print(\"Access denied.\")\n"
   ]
  },
  {
   "cell_type": "code",
   "execution_count": 11,
   "id": "21345fcb",
   "metadata": {},
   "outputs": [
    {
     "name": "stdout",
     "output_type": "stream",
     "text": [
      "Found 'banana' in the list.\n"
     ]
    }
   ],
   "source": [
    "fruits = [\"apple\", \"banana\", \"orange\"]\n",
    "if \"banana\" in fruits:\n",
    "    print(\"Found 'banana' in the list.\")\n",
    "else:\n",
    "    print(\"Did not find 'banana' in the list.\")\n"
   ]
  },
  {
   "cell_type": "code",
   "execution_count": 12,
   "id": "52fe07ec",
   "metadata": {},
   "outputs": [
    {
     "name": "stdout",
     "output_type": "stream",
     "text": [
      "Did not find 'grape' in the list.\n"
     ]
    }
   ],
   "source": [
    "fruits = [\"apple\", \"banana\", \"orange\"]\n",
    "if \"grape\" not in fruits:\n",
    "    print(\"Did not find 'grape' in the list.\")\n",
    "else:\n",
    "    print(\"Found 'grape' in the list.\")\n"
   ]
  },
  {
   "cell_type": "code",
   "execution_count": null,
   "id": "2ee9eda8",
   "metadata": {},
   "outputs": [],
   "source": []
  }
 ],
 "metadata": {
  "kernelspec": {
   "display_name": "Python 3 (ipykernel)",
   "language": "python",
   "name": "python3"
  },
  "language_info": {
   "codemirror_mode": {
    "name": "ipython",
    "version": 3
   },
   "file_extension": ".py",
   "mimetype": "text/x-python",
   "name": "python",
   "nbconvert_exporter": "python",
   "pygments_lexer": "ipython3",
   "version": "3.10.9"
  }
 },
 "nbformat": 4,
 "nbformat_minor": 5
}
