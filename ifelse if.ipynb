{
 "cells": [
  {
   "cell_type": "code",
   "execution_count": 1,
   "id": "c556ceb0",
   "metadata": {},
   "outputs": [
    {
     "ename": "SyntaxError",
     "evalue": "invalid syntax (3306903857.py, line 1)",
     "output_type": "error",
     "traceback": [
      "\u001b[1;36m  Cell \u001b[1;32mIn[1], line 1\u001b[1;36m\u001b[0m\n\u001b[1;33m    if condition can be used to detect potential fraud in a financial transaction system:\u001b[0m\n\u001b[1;37m                 ^\u001b[0m\n\u001b[1;31mSyntaxError\u001b[0m\u001b[1;31m:\u001b[0m invalid syntax\n"
     ]
    }
   ],
   "source": [
    " if condition can be used to detect potential fraud in a financial transaction system:"
   ]
  },
  {
   "cell_type": "code",
   "execution_count": 4,
   "id": "7a31c0c0",
   "metadata": {},
   "outputs": [
    {
     "name": "stdout",
     "output_type": "stream",
     "text": [
      "Transaction is within normal range.\n"
     ]
    }
   ],
   "source": [
    "transaction_amount = 1000  # Example transaction amount\n",
    "user_typical_spending = 500  # Example user's typical spending\n",
    "\n",
    "if transaction_amount > 2000 or transaction_amount > 3 * user_typical_spending:\n",
    "    # If the transaction amount exceeds a certain threshold or deviates significantly from the user's typical spending\n",
    "    # patterns, an alert is triggered for further investigation\n",
    "    print(\"Potential fraud detected! Transaction amount:\", transaction_amount)\n",
    "    # Additional code for sending an alert to the fraud detection team or performing further investigation\n",
    "else:\n",
    "    print(\"Transaction is within normal range.\")\n",
    "    # Code for processing the transaction or performing additional actions\n",
    "        "
   ]
  },
  {
   "cell_type": "code",
   "execution_count": null,
   "id": "605d8897",
   "metadata": {},
   "outputs": [],
   "source": [
    "     Here's an example code snippet that demonstrates how an if condition can be used to manage traffic signals in an intelligent traffic control system:"
   ]
  },
  {
   "cell_type": "code",
   "execution_count": 5,
   "id": "4f32630e",
   "metadata": {},
   "outputs": [
    {
     "name": "stdout",
     "output_type": "stream",
     "text": [
      "Adjusting signal timing to prioritize heavy traffic flow.\n"
     ]
    }
   ],
   "source": [
    "traffic_status = \"heavy\"  # Example traffic status\n",
    "\n",
    "if traffic_status == \"heavy\":\n",
    "    # If the traffic status is determined to be \"heavy\" on a specific road,\n",
    "    # the signal timing can be adjusted to prioritize that direction\n",
    "    print(\"Adjusting signal timing to prioritize heavy traffic flow.\")\n",
    "    # Additional code for adjusting the signal timing accordingly\n",
    "else:\n",
    "    print(\"No adjustment needed for signal timing.\")\n",
    "    # Code for normal signal timing or any additional actions\n",
    "\n",
    "# Rest of the code for the traffic control system       \n"
   ]
  },
  {
   "cell_type": "code",
   "execution_count": 7,
   "id": "d31f3234",
   "metadata": {},
   "outputs": [
    {
     "name": "stdout",
     "output_type": "stream",
     "text": [
      "Item purchased!\n",
      "Remaining budget: 701\n"
     ]
    }
   ],
   "source": [
    "# Shopping project\n",
    "budget = 1000  # Example budget\n",
    "item_price = 299  # Example item price\n",
    "\n",
    "if item_price <= budget:\n",
    "    # If the item price is within the budget, the purchase can be made\n",
    "    print(\"Item purchased!\")\n",
    "    budget -= item_price  # Subtract the item price from the budget\n",
    "    print(\"Remaining budget:\", budget)\n",
    "    # Additional code for processing the purchase or performing additional actions\n",
    "else:\n",
    "    print(\"Insufficient budget to purchase the item.\")\n",
    "    # Code for handling the case when the item price exceeds the budget\n",
    "\n",
    "# Rest of the code for the shopping project       \n"
   ]
  },
  {
   "cell_type": "code",
   "execution_count": null,
   "id": "ff08889b",
   "metadata": {},
   "outputs": [],
   "source": [
    "  where a user can input their age and the program determines if they are eligible to vote:\n",
    "\n",
    "python\n"
   ]
  },
  {
   "cell_type": "code",
   "execution_count": 9,
   "id": "515416b8",
   "metadata": {},
   "outputs": [
    {
     "name": "stdout",
     "output_type": "stream",
     "text": [
      "Enter your age: 54\n",
      "You are eligible to vote!\n"
     ]
    }
   ],
   "source": [
    "# Voting eligibility project\n",
    "voting_age = 18  # Minimum voting age\n",
    "\n",
    "# User input for age\n",
    "user_age = int(input(\"Enter your age: \"))\n",
    "\n",
    "if user_age >= voting_age:\n",
    "    # If the user's age is greater than or equal to the minimum voting age\n",
    "    print(\"You are eligible to vote!\")\n",
    "    # Additional code for voter registration or providing voting information\n",
    "else:\n",
    "    print(\"You are not eligible to vote yet.\")\n",
    "    # Code for informing the user that they are not eligible to vote\n",
    "\n",
    "# Rest of the code for the project    \n"
   ]
  },
  {
   "cell_type": "code",
   "execution_count": null,
   "id": "cdc2051f",
   "metadata": {},
   "outputs": [],
   "source": []
  }
 ],
 "metadata": {
  "kernelspec": {
   "display_name": "Python 3 (ipykernel)",
   "language": "python",
   "name": "python3"
  },
  "language_info": {
   "codemirror_mode": {
    "name": "ipython",
    "version": 3
   },
   "file_extension": ".py",
   "mimetype": "text/x-python",
   "name": "python",
   "nbconvert_exporter": "python",
   "pygments_lexer": "ipython3",
   "version": "3.10.9"
  }
 },
 "nbformat": 4,
 "nbformat_minor": 5
}
